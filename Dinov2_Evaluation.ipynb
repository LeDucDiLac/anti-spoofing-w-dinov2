{
  "nbformat": 4,
  "nbformat_minor": 0,
  "metadata": {
    "colab": {
      "provenance": [],
      "authorship_tag": "ABX9TyPT/+ZIJPsRXti46e+IRcaK",
      "include_colab_link": true
    },
    "kernelspec": {
      "name": "python3",
      "display_name": "Python 3"
    },
    "language_info": {
      "name": "python"
    }
  },
  "cells": [
    {
      "cell_type": "markdown",
      "metadata": {
        "id": "view-in-github",
        "colab_type": "text"
      },
      "source": [
        "<a href=\"https://colab.research.google.com/github/LeDucDiLac/anti-spoofing-w-dinov2/blob/main/Dinov2_Evaluation.ipynb\" target=\"_parent\"><img src=\"https://colab.research.google.com/assets/colab-badge.svg\" alt=\"Open In Colab\"/></a>"
      ]
    },
    {
      "cell_type": "code",
      "execution_count": null,
      "metadata": {
        "id": "sTJOjltRIe7G"
      },
      "outputs": [],
      "source": [
        "import torch\n",
        "from torchvision.transforms import v2\n",
        "import cv2\n",
        "import numpy as np\n",
        "\n",
        "device = torch.device(\"cuda\" if torch.cuda.is_available() else \"cpu\")\n",
        "print(\"using\", device)\n",
        "\n",
        "dino_name = \"dinov2_vitg14\"\n",
        "dino_model = torch.hub.load(\"facebookresearch/dinov2\", dino_name)\n",
        "dino_model.to(device).eval()\n",
        "\n",
        "from google.colab import drive\n",
        "drive.mount(\"/content/drive\")"
      ]
    },
    {
      "cell_type": "code",
      "source": [
        "from torch import nn\n",
        "\n",
        "class LargerNN(nn.Module):\n",
        "    def __init__(self, input_dim, output_dim):\n",
        "        super(LargerNN, self).__init__()\n",
        "        self.fc1 = nn.Linear(input_dim, 1024)\n",
        "        self.relu1 = nn.ReLU()\n",
        "        self.fc2 = nn.Linear(1024, 512)\n",
        "        self.relu2 = nn.ReLU()\n",
        "        self.fc3 = nn.Linear(512, 256)\n",
        "        self.relu3 = nn.ReLU()\n",
        "        self.fc4 = nn.Linear(256, output_dim)\n",
        "\n",
        "    def forward(self, x):\n",
        "        x = self.fc1(x)\n",
        "        x = self.relu1(x)\n",
        "        x = self.fc2(x)\n",
        "        x = self.relu2(x)\n",
        "        x = self.fc3(x)\n",
        "        x = self.relu3(x)\n",
        "        x = self.fc4(x)\n",
        "        return x\n",
        "\n",
        "if(dino_name == \"dinov2_vitg14\"):\n",
        "  input_dim = 1536\n",
        "elif dino_name == \"dinov2_vitl14\":\n",
        "  input_dim = 1024\n",
        "elif dino_name == \"dinov2_vitb14\":\n",
        "  input_dim = 768\n",
        "elif dino_name == \"dinov2_vits14\":\n",
        "  input_dim = 384\n",
        "\n",
        "output_dim = 2\n",
        "nn_model_path = \"/content/drive/MyDrive/antispoofing/modelg14_4l.pth\"\n",
        "nn_model = LargerNN(input_dim, output_dim)\n",
        "nn_model.load_state_dict(torch.load(nn_model_path, weights_only=True, map_location=device))\n",
        "nn_model.to(device).eval()\n",
        "\n",
        "\n",
        "img_size = 224\n",
        "transform = v2.Compose([\n",
        "    v2.Resize((img_size,img_size)),\n",
        "    v2.ToTensor(),\n",
        "    v2.Normalize(mean=[0.485, 0.456, 0.406], std=[0.229, 0.224, 0.225]),\n",
        "])"
      ],
      "metadata": {
        "id": "6QOjA_hfdOry"
      },
      "execution_count": null,
      "outputs": []
    },
    {
      "cell_type": "code",
      "source": [
        "nn_model.eval()\n",
        "all_labels = []\n",
        "all_predictions = []\n",
        "misclassified_paths = []\n",
        "\n",
        "with torch.no_grad():\n",
        "    correct = 0\n",
        "    total = 0\n",
        "    for batch_features, batch_labels, batch_paths in test_loader:\n",
        "        batch_features, batch_labels = batch_features.to(device), batch_labels.to(device)\n",
        "\n",
        "        outputs = nn_model(batch_features)\n",
        "        _, predictions = torch.max(outputs, 1)\n",
        "\n",
        "        all_labels.extend(batch_labels.cpu().numpy())\n",
        "        all_predictions.extend(predictions.cpu().numpy())\n",
        "        total += batch_labels.size(0)\n",
        "        correct += (predictions == batch_labels).sum().item()\n",
        "\n",
        "        # Identify misclassified images\n",
        "        for i, (label, pred, path) in enumerate(zip(batch_labels.cpu().numpy(), predictions.cpu().numpy(), batch_paths)):\n",
        "            if label != pred:\n",
        "                misclassified_paths.append((path, label, pred))\n",
        "\n",
        "accuracy = 100 * correct / total\n",
        "print(f\"Test Accuracy: {accuracy:.2f}%\")\n",
        "# Confusion matrix\n",
        "conf_matrix = confusion_matrix(all_labels, all_predictions)\n",
        "disp = ConfusionMatrixDisplay(confusion_matrix=conf_matrix, display_labels=torch.unique(labels).numpy())\n",
        "disp.plot(cmap='viridis', values_format='d')\n",
        "plt.title('Confusion Matrix')\n",
        "plt.show()\n"
      ],
      "metadata": {
        "id": "kUd7zGOcdzrp"
      },
      "execution_count": null,
      "outputs": []
    }
  ]
}